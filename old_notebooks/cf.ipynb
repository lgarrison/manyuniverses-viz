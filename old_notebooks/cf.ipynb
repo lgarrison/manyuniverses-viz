{
 "cells": [
  {
   "cell_type": "code",
   "execution_count": 1,
   "metadata": {},
   "outputs": [
    {
     "name": "stdout",
     "output_type": "stream",
     "text": [
      "xx-small 5.79\n",
      "x-small 6.94\n",
      "small 8.33\n",
      "medium 10.0\n",
      "large 12.0\n",
      "x-large 14.4\n",
      "xx-large 17.28\n",
      "larger 12.0\n",
      "smaller 8.33\n"
     ]
    }
   ],
   "source": [
    "import matplotlib as mpl\n",
    "import matplotlib.pyplot as plt\n",
    "\n",
    "fig, ax = plt.subplots()\n",
    "\n",
    "t = ax.text(0.5, 0.5, 'Text')\n",
    "\n",
    "fonts = ['xx-small', 'x-small', 'small', 'medium', 'large', \n",
    "         'x-large', 'xx-large', 'larger', 'smaller']\n",
    "\n",
    "for font in fonts:\n",
    "    t.set_fontsize(font)\n",
    "    print (font, round(t.get_fontsize(), 2))\n",
    "\n",
    "plt.close()    "
   ]
  },
  {
   "cell_type": "code",
   "execution_count": 1,
   "metadata": {},
   "outputs": [],
   "source": [
    "import Corrfunc\n",
    "import asdf\n",
    "import numpy as np\n",
    "import matplotlib.pyplot as plt\n",
    "from astropy.table import Table"
   ]
  },
  {
   "cell_type": "code",
   "execution_count": 2,
   "metadata": {},
   "outputs": [],
   "source": [
    "fn = '/mnt/home/lgarrison/ceph/multicosmo-viz/traj.asdf'\n",
    "af = asdf.open(fn)\n",
    "pairs = af['pairs']"
   ]
  },
  {
   "cell_type": "code",
   "execution_count": 15,
   "metadata": {},
   "outputs": [
    {
     "name": "stdout",
     "output_type": "stream",
     "text": [
      "20.406484819857575\n"
     ]
    }
   ],
   "source": [
    "xi_smooth = 3\n",
    "nbin = pairs['npair'].shape[0] // xi_smooth\n",
    "smoothpairs = Table({}, meta=pairs.meta.copy())\n",
    "DD = pairs['npair'].reshape(nbin, xi_smooth, -1).sum(axis=1)\n",
    "RR = pairs['RR'].reshape(nbin, xi_smooth, -1).sum(axis=1)\n",
    "rmin = pairs['rmin'][::xi_smooth]\n",
    "rmax = pairs['rmax'][xi_smooth-1::xi_smooth]  # ?\n",
    "smoothpairs['xi'] = DD/RR - 1  # shape (nbin, nstate)\n",
    "smoothpairs['rmid'] = (rmax + rmin) / 2\n",
    "print((smoothpairs['xi'].T*smoothpairs['rmid']**1.5).max())"
   ]
  },
  {
   "cell_type": "code",
   "execution_count": 31,
   "metadata": {},
   "outputs": [
    {
     "data": {
      "text/plain": [
       "(0.1, 12.636779730700646)"
      ]
     },
     "execution_count": 31,
     "metadata": {},
     "output_type": "execute_result"
    },
    {
     "data": {
      "image/png": "[encoded data removed]",
      "text/plain": [
       "<Figure size 432x288 with 1 Axes>"
      ]
     },
     "metadata": {
      "needs_background": "light"
     },
     "output_type": "display_data"
    }
   ],
   "source": [
    "fig, ax = plt.subplots()\n",
    "ax.set_xscale('log')\n",
    "#ax.set_yscale('log')\n",
    "ax.plot(smoothpairs['rmid'], smoothpairs['xi'][:,0]*smoothpairs['rmid']**1.5)\n",
    "ax.set_xlim(0.1)\n",
    "#ax.loglog(smoothpairs['rmid'], smoothpairs['xi'][:,0])"
   ]
  },
  {
   "cell_type": "code",
   "execution_count": 43,
   "metadata": {},
   "outputs": [
    {
     "name": "stderr",
     "output_type": "stream",
     "text": [
      "In gridlink_double> Running with [nmesh_x, nmesh_y, nmesh_z]  = 4,4,2.  Time taken =   0.004 sec\n",
      "countpairs_double> gridlink seems inefficient. nmesh = (4, 4, 2); avg_np = 3.12e+03. Boosting bin refine factor - should lead to better performance\n",
      "xmin = 0.000583 xmax=29.999111 rpmax = 12.100000\n",
      "In gridlink_double> Running with [nmesh_x, nmesh_y, nmesh_z]  = 7,7,2.  Time taken =   0.002 sec\n",
      "0%.........10%.........20%.........30%.........40%.........50%.........60%.........70%.........80%.........90%........100% done. Time taken =  2.955 secs\n"
     ]
    }
   ],
   "source": [
    "p = traj['pos'][:,5,:].T\n",
    "#bins = np.logspace(-1,1,2*3*2*3+1)\n",
    "bins = np.linspace(0.1, 12.1, 2**3*3**3 + 1)\n",
    "res = Corrfunc.theory.DD(1, 12, bins, *p, periodic=False)\n",
    "box = 30.\n",
    "\n",
    "res = Table(res)\n",
    "res['rmid'] = (res['rmin'] + res['rmax'])/2.\n",
    "\n",
    "rng = np.random.default_rng()\n",
    "rands = rng.uniform(0, box, size=(3,10**5))\n",
    "rand_res = Corrfunc.theory.DD(1, 12, bins, *rands, periodic=False, verbose=True)\n",
    "\n",
    "#res['RR'] = (res['rmax']**3 - res['rmin']**3)*4/3*np.pi*len(p.T)*(len(p.T)-1)/30**3\n",
    "res['RR'] = rand_res['npairs'] * (rands.shape[1]/p.shape[1])**-2\n",
    "res['xi'] = res['npairs']/res['RR'] - 1."
   ]
  },
  {
   "cell_type": "code",
   "execution_count": null,
   "metadata": {},
   "outputs": [],
   "source": []
  }
 ],
 "metadata": {
  "interpreter": {
   "hash": "dd035d386bac5f9c03345b1592f7189ece873f38492f1f265cd6a3ae67b652bc"
  },
  "kernelspec": {
   "display_name": "Python 3.9.7 64-bit ('venv': venv)",
   "language": "python",
   "name": "python3"
  },
  "language_info": {
   "codemirror_mode": {
    "name": "ipython",
    "version": 3
   },
   "file_extension": ".py",
   "mimetype": "text/x-python",
   "name": "python",
   "nbconvert_exporter": "python",
   "pygments_lexer": "ipython3",
   "version": "3.9.7"
  },
  "orig_nbformat": 4
 },
 "nbformat": 4,
 "nbformat_minor": 2
}
